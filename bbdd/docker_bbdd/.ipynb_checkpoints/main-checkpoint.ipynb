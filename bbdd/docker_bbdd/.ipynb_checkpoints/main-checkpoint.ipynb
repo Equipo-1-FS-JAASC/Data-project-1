{
 "cells": [
  {
   "cell_type": "code",
   "execution_count": 1,
   "metadata": {},
   "outputs": [],
   "source": [
    "#pip install psycopg2-binary\n"
   ]
  },
  {
   "cell_type": "code",
   "execution_count": 2,
   "metadata": {},
   "outputs": [],
   "source": [
    "import psycopg2\n",
    "import csv\n",
    "import pandas as pd\n",
    "import numpy as np\n",
    "from sklearn.preprocessing import MinMaxScaler"
   ]
  },
  {
   "cell_type": "code",
   "execution_count": 3,
   "metadata": {},
   "outputs": [
    {
     "name": "stdout",
     "output_type": "stream",
     "text": [
      "Data from table usuarios saved to usuarios.csv\n",
      "Data from table discapacidad saved to discapacidad.csv\n",
      "Data from table discapacidad saved to discapacidad.csv\n",
      "Data from table renta saved to renta.csv\n",
      "Data from table patrimonio saved to patrimonio.csv\n"
     ]
    }
   ],
   "source": [
    "\n",
    "\n",
    "# Параметры подключения к базе данных PostgreSQL\n",
    "db_params = {\n",
    "    'dbname': 'DBInmerso',\n",
    "    'user': 'postgres',\n",
    "    'password': 'postgres',\n",
    "    'host': 'localhost',\n",
    "    'port': '5432'\n",
    "}\n",
    "\n",
    "# Имя таблицы, которую вы хотите скачать\n",
    "\n",
    "tables_to_save = ['usuarios', 'discapacidad', 'discapacidad', 'renta', 'patrimonio']\n",
    "#'familia_numerosa','participacion', 'coche', 'tipo_trabajo', 'alquilar_piso'\n",
    "\n",
    "# Подключение к базе данных\n",
    "connection = psycopg2.connect(**db_params)\n",
    "\n",
    "# Создание курсора\n",
    "cursor = connection.cursor()\n",
    "\n",
    "\n",
    "for table in tables_to_save:\n",
    "    # Загрузка данных из таблицы в DataFrame\n",
    "    sql_query = f\"SELECT * FROM {table};\"\n",
    "    df = pd.read_sql_query(sql_query, connection)\n",
    "\n",
    "    # Сохранение DataFrame в CSV-файл\n",
    "    filename = f'{table}.csv'\n",
    "    df.to_csv(filename, index=False)\n",
    "    print(f'Data from table {table} saved to {filename}')\n",
    "\n",
    "# Закрытие соединения\n",
    "cursor.close()\n",
    "connection.close()\n",
    "\n",
    "\n"
   ]
  },
  {
   "cell_type": "code",
   "execution_count": 5,
   "metadata": {
    "scrolled": false
   },
   "outputs": [
    {
     "name": "stdout",
     "output_type": "stream",
     "text": [
      "          dni      nombre    apellido  edad fecha_de_nacimiento  id_solicitud  \\\n",
      "0    95822412  Candelario     Huertas    73          1909-10-24            26   \n",
      "1    46913810      Anabel      Olmedo    77          1939-03-02           229   \n",
      "2    28728463      Ovidio      Azcona    73          1937-02-05           693   \n",
      "3    83197857   Godofredo      Arnaiz    72          1911-07-03           605   \n",
      "4    66629388    Cipriano     Colomer    71          1929-01-03            31   \n",
      "..        ...         ...         ...   ...                 ...           ...   \n",
      "995  82199509     Miguela  Villanueva    85          1928-03-30           247   \n",
      "996  40245233  Montserrat    Olivares    79          1912-09-03           879   \n",
      "997  29374563      Matías         Luz    84          1924-03-30           937   \n",
      "998  17734153     Abraham   Cervantes    87          1932-01-23           423   \n",
      "999  65902739       Isaac      Arjona    87          1909-07-23           543   \n",
      "\n",
      "     usuario_solicitante  oficio_especial  \n",
      "0                  False             True  \n",
      "1                  False            False  \n",
      "2                   True             True  \n",
      "3                  False             True  \n",
      "4                   True             True  \n",
      "..                   ...              ...  \n",
      "995                 True            False  \n",
      "996                False            False  \n",
      "997                False             True  \n",
      "998                 True            False  \n",
      "999                 True             True  \n",
      "\n",
      "[1000 rows x 8 columns]\n"
     ]
    }
   ],
   "source": [
    "\n",
    "usuarios = pd.read_csv('usuarios.csv')\n",
    "print(usuarios)"
   ]
  },
  {
   "cell_type": "code",
   "execution_count": 9,
   "metadata": {},
   "outputs": [
    {
     "name": "stdout",
     "output_type": "stream",
     "text": [
      "          dni      nombre    apellido  edad fecha_de_nacimiento  id_solicitud  \\\n",
      "0    95822412  Candelario     Huertas    73          1909-10-24            26   \n",
      "1    46913810      Anabel      Olmedo    77          1939-03-02           229   \n",
      "2    28728463      Ovidio      Azcona    73          1937-02-05           693   \n",
      "3    83197857   Godofredo      Arnaiz    72          1911-07-03           605   \n",
      "4    66629388    Cipriano     Colomer    71          1929-01-03            31   \n",
      "..        ...         ...         ...   ...                 ...           ...   \n",
      "995  82199509     Miguela  Villanueva    85          1928-03-30           247   \n",
      "996  40245233  Montserrat    Olivares    79          1912-09-03           879   \n",
      "997  29374563      Matías         Luz    84          1924-03-30           937   \n",
      "998  17734153     Abraham   Cervantes    87          1932-01-23           423   \n",
      "999  65902739       Isaac      Arjona    87          1909-07-23           543   \n",
      "\n",
      "     usuario_solicitante  oficio_especial  Score  score  \n",
      "0                  False             True     15     15  \n",
      "1                  False            False     19     19  \n",
      "2                   True             True     15     15  \n",
      "3                  False             True     14     14  \n",
      "4                   True             True     13     13  \n",
      "..                   ...              ...    ...    ...  \n",
      "995                 True            False     20     20  \n",
      "996                False            False     20     20  \n",
      "997                False             True     20     20  \n",
      "998                 True            False     20     20  \n",
      "999                 True             True     20     20  \n",
      "\n",
      "[1000 rows x 10 columns]\n"
     ]
    }
   ],
   "source": [
    "# add score\n",
    "\n",
    "\n",
    "for index, row in usuarios.iterrows():\n",
    "    edad = row['edad']\n",
    "    SCORE = 0\n",
    "    if edad < 60:\n",
    "        SCORE = 1\n",
    "    elif edad == 60:\n",
    "        SCORE = 2\n",
    "    elif edad <= 78:\n",
    "        SCORE = 2 + (edad - 60)\n",
    "    else:\n",
    "        SCORE = 20\n",
    "    \n",
    "    usuarios.at[index, 'score'] = SCORE\n",
    "\n",
    "usuarios['score'] = usuarios['score'].astype(int)\n",
    "print(usuarios)"
   ]
  },
  {
   "cell_type": "code",
   "execution_count": 10,
   "metadata": {},
   "outputs": [
    {
     "name": "stdout",
     "output_type": "stream",
     "text": [
      "          dni  grado_dis\n",
      "0    95822412          0\n",
      "1    46913810          1\n",
      "2    28728463          0\n",
      "3    83197857          2\n",
      "4    66629388          2\n",
      "..        ...        ...\n",
      "995  82199509          0\n",
      "996  40245233          1\n",
      "997  29374563          1\n",
      "998  17734153          2\n",
      "999  65902739          2\n",
      "\n",
      "[1000 rows x 2 columns]\n"
     ]
    }
   ],
   "source": [
    "\n",
    "discapacidad = pd.read_csv('discapacidad.csv')\n",
    "print(discapacidad)"
   ]
  },
  {
   "cell_type": "code",
   "execution_count": 11,
   "metadata": {},
   "outputs": [
    {
     "name": "stdout",
     "output_type": "stream",
     "text": [
      "          dni  grado_dis  Score\n",
      "0    95822412          0      0\n",
      "1    46913810          1     10\n",
      "2    28728463          0      0\n",
      "3    83197857          2     15\n",
      "4    66629388          2     15\n",
      "..        ...        ...    ...\n",
      "995  82199509          0      0\n",
      "996  40245233          1     10\n",
      "997  29374563          1     10\n",
      "998  17734153          2     15\n",
      "999  65902739          2     15\n",
      "\n",
      "[1000 rows x 3 columns]\n"
     ]
    }
   ],
   "source": [
    "# add score\n",
    "\n",
    "\n",
    "for index, row in discapacidad.iterrows():\n",
    "    grado_dis = row['grado_dis']\n",
    "    SCORE = 0\n",
    "    if grado_dis == 1:\n",
    "        SCORE = 10\n",
    "    elif grado_dis == 2:\n",
    "        SCORE = 15\n",
    "    else:\n",
    "        SCORE = 0\n",
    "    \n",
    "    discapacidad.at[index, 'Score'] = SCORE\n",
    "\n",
    "discapacidad['Score'] = discapacidad['Score'].astype(int)\n",
    "print(discapacidad)"
   ]
  },
  {
   "cell_type": "code",
   "execution_count": null,
   "metadata": {},
   "outputs": [],
   "source": [
    "# renta\n",
    "\n",
    "renta = pd.read_csv('renta.csv')\n",
    "\n"
   ]
  },
  {
   "cell_type": "code",
   "execution_count": null,
   "metadata": {},
   "outputs": [],
   "source": [
    "# patrimonio\n",
    "\n",
    "patrimonio = pd.read_csv('patrimonio.csv')"
   ]
  }
 ],
 "metadata": {
  "kernelspec": {
   "display_name": "Python 3 (ipykernel)",
   "language": "python",
   "name": "python3"
  },
  "language_info": {
   "codemirror_mode": {
    "name": "ipython",
    "version": 3
   },
   "file_extension": ".py",
   "mimetype": "text/x-python",
   "name": "python",
   "nbconvert_exporter": "python",
   "pygments_lexer": "ipython3",
   "version": "3.9.7"
  }
 },
 "nbformat": 4,
 "nbformat_minor": 2
}
