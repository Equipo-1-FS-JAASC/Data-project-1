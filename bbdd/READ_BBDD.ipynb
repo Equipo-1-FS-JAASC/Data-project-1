{
 "cells": [
  {
   "cell_type": "markdown",
   "metadata": {},
   "source": [
    "ACCESO A NUESTRA BASE DE DATOS"
   ]
  },
  {
   "cell_type": "markdown",
   "metadata": {},
   "source": [
    "Código natalia"
   ]
  },
  {
   "cell_type": "code",
   "execution_count": 3,
   "metadata": {},
   "outputs": [
    {
     "ename": "ModuleNotFoundError",
     "evalue": "No module named 'psycopg2'",
     "output_type": "error",
     "traceback": [
      "\u001b[0;31m---------------------------------------------------------------------------\u001b[0m",
      "\u001b[0;31mModuleNotFoundError\u001b[0m                       Traceback (most recent call last)",
      "\u001b[1;32m/Users/adrianacamposnarvaez/Documents/GitHub/Data-project-1/READ_BBDD.ipynb Cell 3\u001b[0m line \u001b[0;36m1\n\u001b[0;32m----> <a href='vscode-notebook-cell:/Users/adrianacamposnarvaez/Documents/GitHub/Data-project-1/READ_BBDD.ipynb#W2sZmlsZQ%3D%3D?line=0'>1</a>\u001b[0m \u001b[39mimport\u001b[39;00m \u001b[39mpsycopg2\u001b[39;00m \u001b[39mas\u001b[39;00m \u001b[39mpdb\u001b[39;00m\n\u001b[1;32m      <a href='vscode-notebook-cell:/Users/adrianacamposnarvaez/Documents/GitHub/Data-project-1/READ_BBDD.ipynb#W2sZmlsZQ%3D%3D?line=1'>2</a>\u001b[0m \u001b[39m# Definición de la conexión\u001b[39;00m\n\u001b[1;32m      <a href='vscode-notebook-cell:/Users/adrianacamposnarvaez/Documents/GitHub/Data-project-1/READ_BBDD.ipynb#W2sZmlsZQ%3D%3D?line=2'>3</a>\u001b[0m connection_target \u001b[39m=\u001b[39m pdb\u001b[39m.\u001b[39mconnect(\n\u001b[1;32m      <a href='vscode-notebook-cell:/Users/adrianacamposnarvaez/Documents/GitHub/Data-project-1/READ_BBDD.ipynb#W2sZmlsZQ%3D%3D?line=3'>4</a>\u001b[0m         host\u001b[39m=\u001b[39m\u001b[39m'\u001b[39m\u001b[39m144.91.98.124\u001b[39m\u001b[39m'\u001b[39m,\n\u001b[1;32m      <a href='vscode-notebook-cell:/Users/adrianacamposnarvaez/Documents/GitHub/Data-project-1/READ_BBDD.ipynb#W2sZmlsZQ%3D%3D?line=4'>5</a>\u001b[0m         database\u001b[39m=\u001b[39m\u001b[39m'\u001b[39m\u001b[39mdvdrental_sql\u001b[39m\u001b[39m'\u001b[39m,\n\u001b[0;32m   (...)\u001b[0m\n\u001b[1;32m      <a href='vscode-notebook-cell:/Users/adrianacamposnarvaez/Documents/GitHub/Data-project-1/READ_BBDD.ipynb#W2sZmlsZQ%3D%3D?line=7'>8</a>\u001b[0m         port\u001b[39m=\u001b[39m\u001b[39m5432\u001b[39m\n\u001b[1;32m      <a href='vscode-notebook-cell:/Users/adrianacamposnarvaez/Documents/GitHub/Data-project-1/READ_BBDD.ipynb#W2sZmlsZQ%3D%3D?line=8'>9</a>\u001b[0m )\n",
      "\u001b[0;31mModuleNotFoundError\u001b[0m: No module named 'psycopg2'"
     ]
    }
   ],
   "source": [
    "import psycopg2 as pdb\n",
    "# Definición de la conexión\n",
    "connection_target = pdb.connect(\n",
    "        host='144.91.98.124',\n",
    "        database='dvdrental_sql',\n",
    "        user='edem_sql',\n",
    "        password='EdemSql$2023',\n",
    "        port=5432\n",
    ")\n",
    "\n",
    "# Creación del cursor\n",
    "cur_target = connection_target.cursor()\n",
    "#leer de la tabla\n",
    "cur_target.execute(\" SELECT * FROM PUBLIC.FILM WHERE film_id=1\")\n",
    "#ejecutar\n",
    "resultados = cur_target.fetchall()\n",
    "for fila in resultados:\n",
    "    print(fila)\n",
    "#resultados"
   ]
  },
  {
   "cell_type": "markdown",
   "metadata": {},
   "source": [
    "Nuestra bbdd"
   ]
  },
  {
   "cell_type": "code",
   "execution_count": null,
   "metadata": {},
   "outputs": [],
   "source": [
    "# Definición de la conexión\n",
    "\n",
    "import psycopg2\n",
    "from psycopg2 import sql\n",
    "\n",
    "connection_target = pdb.connect(\n",
    "        host='postgres',\n",
    "        database='Data',\n",
    "        user='postgres',\n",
    "        password='Welcome01',\n",
    "        port=5432\n",
    ")\n"
   ]
  }
 ],
 "metadata": {
  "kernelspec": {
   "display_name": "Python 3",
   "language": "python",
   "name": "python3"
  },
  "language_info": {
   "codemirror_mode": {
    "name": "ipython",
    "version": 3
   },
   "file_extension": ".py",
   "mimetype": "text/x-python",
   "name": "python",
   "nbconvert_exporter": "python",
   "pygments_lexer": "ipython3",
   "version": "3.11.5"
  }
 },
 "nbformat": 4,
 "nbformat_minor": 2
}
