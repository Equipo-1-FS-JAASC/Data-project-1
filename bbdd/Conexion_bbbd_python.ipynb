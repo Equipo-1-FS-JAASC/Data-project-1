{
 "cells": [
  {
   "cell_type": "code",
   "execution_count": 5,
   "metadata": {},
   "outputs": [
    {
     "ename": "NameError",
     "evalue": "name 'psycopg2' is not defined",
     "output_type": "error",
     "traceback": [
      "\u001b[0;31m---------------------------------------------------------------------------\u001b[0m",
      "\u001b[0;31mNameError\u001b[0m                                 Traceback (most recent call last)",
      "\u001b[1;32m/Users/korotchenkostanislav/Documents/GitHub/Data-project-1/bbdd/Conexion_bbbd_python.ipynb Cell 1\u001b[0m line \u001b[0;36m1\n\u001b[1;32m     <a href='vscode-notebook-cell:/Users/korotchenkostanislav/Documents/GitHub/Data-project-1/bbdd/Conexion_bbbd_python.ipynb#W0sZmlsZQ%3D%3D?line=12'>13</a>\u001b[0m \u001b[39mtry\u001b[39;00m:\n\u001b[0;32m---> <a href='vscode-notebook-cell:/Users/korotchenkostanislav/Documents/GitHub/Data-project-1/bbdd/Conexion_bbbd_python.ipynb#W0sZmlsZQ%3D%3D?line=13'>14</a>\u001b[0m     conn \u001b[39m=\u001b[39m psycopg2\u001b[39m.\u001b[39mconnect(dbname\u001b[39m=\u001b[39mdbname, user\u001b[39m=\u001b[39muser, password\u001b[39m=\u001b[39mpassword, host\u001b[39m=\u001b[39mhost, port\u001b[39m=\u001b[39mport)\n\u001b[1;32m     <a href='vscode-notebook-cell:/Users/korotchenkostanislav/Documents/GitHub/Data-project-1/bbdd/Conexion_bbbd_python.ipynb#W0sZmlsZQ%3D%3D?line=15'>16</a>\u001b[0m     \u001b[39m# Ejemplo de consulta SELECT\u001b[39;00m\n",
      "\u001b[0;31mNameError\u001b[0m: name 'psycopg2' is not defined",
      "\nDuring handling of the above exception, another exception occurred:\n",
      "\u001b[0;31mNameError\u001b[0m                                 Traceback (most recent call last)",
      "\u001b[1;32m/Users/korotchenkostanislav/Documents/GitHub/Data-project-1/bbdd/Conexion_bbbd_python.ipynb Cell 1\u001b[0m line \u001b[0;36m2\n\u001b[1;32m     <a href='vscode-notebook-cell:/Users/korotchenkostanislav/Documents/GitHub/Data-project-1/bbdd/Conexion_bbbd_python.ipynb#W0sZmlsZQ%3D%3D?line=18'>19</a>\u001b[0m     \u001b[39m# Guarda los resultados en un dataframe \u001b[39;00m\n\u001b[1;32m     <a href='vscode-notebook-cell:/Users/korotchenkostanislav/Documents/GitHub/Data-project-1/bbdd/Conexion_bbbd_python.ipynb#W0sZmlsZQ%3D%3D?line=19'>20</a>\u001b[0m     df \u001b[39m=\u001b[39m pd\u001b[39m.\u001b[39mread_sql_query(query, conn)\n\u001b[0;32m---> <a href='vscode-notebook-cell:/Users/korotchenkostanislav/Documents/GitHub/Data-project-1/bbdd/Conexion_bbbd_python.ipynb#W0sZmlsZQ%3D%3D?line=21'>22</a>\u001b[0m \u001b[39mexcept\u001b[39;00m psycopg2\u001b[39m.\u001b[39mError \u001b[39mas\u001b[39;00m e:\n\u001b[1;32m     <a href='vscode-notebook-cell:/Users/korotchenkostanislav/Documents/GitHub/Data-project-1/bbdd/Conexion_bbbd_python.ipynb#W0sZmlsZQ%3D%3D?line=22'>23</a>\u001b[0m     \u001b[39mprint\u001b[39m(\u001b[39m\"\u001b[39m\u001b[39mError al conectar a la base de datos:\u001b[39m\u001b[39m\"\u001b[39m, e)\n\u001b[1;32m     <a href='vscode-notebook-cell:/Users/korotchenkostanislav/Documents/GitHub/Data-project-1/bbdd/Conexion_bbbd_python.ipynb#W0sZmlsZQ%3D%3D?line=24'>25</a>\u001b[0m \u001b[39mfinally\u001b[39;00m:\n\u001b[1;32m     <a href='vscode-notebook-cell:/Users/korotchenkostanislav/Documents/GitHub/Data-project-1/bbdd/Conexion_bbbd_python.ipynb#W0sZmlsZQ%3D%3D?line=25'>26</a>\u001b[0m     \u001b[39m# Cerrar la conexión si está abierta\u001b[39;00m\n",
      "\u001b[0;31mNameError\u001b[0m: name 'psycopg2' is not defined"
     ]
    }
   ],
   "source": [
    "import psycopg2\n",
    "import pandas as pd\n",
    "\n",
    "dbname = \"obqrzyqi\"\n",
    "user = \"obqrzyqi\"\n",
    "password = \"8PKTas-pu_I7k1Gjm0ofLxcejh6WqloY\"\n",
    "host = \"berry.db.elephantsql.com\"\n",
    "port = \"5432\"\n",
    "\n",
    "\n",
    "conn = None\n",
    "\n",
    "try:\n",
    "    conn = psycopg2.connect(dbname=dbname, user=user, password=password, host=host, port=port)\n",
    "\n",
    "    # Ejemplo de consulta SELECT\n",
    "    query = \"SELECT * FROM usuarios\"\n",
    "\n",
    "    # Guarda los resultados en un dataframe \n",
    "    df = pd.read_sql_query(query, conn)\n",
    "\n",
    "except psycopg2.Error as e:\n",
    "    print(\"Error al conectar a la base de datos:\", e)\n",
    "\n",
    "finally:\n",
    "    # Cerrar la conexión si está abierta\n",
    "    if conn is not None:\n",
    "        conn.close()\n",
    "        \n",
    "        \n",
    "df"
   ]
  },
  {
   "cell_type": "code",
   "execution_count": 7,
   "metadata": {},
   "outputs": [
    {
     "data": {
      "text/plain": [
       "[]"
      ]
     },
     "execution_count": 7,
     "metadata": {},
     "output_type": "execute_result"
    }
   ],
   "source": []
  },
  {
   "cell_type": "code",
   "execution_count": null,
   "metadata": {},
   "outputs": [],
   "source": []
  }
 ],
 "metadata": {
  "kernelspec": {
   "display_name": "base",
   "language": "python",
   "name": "python3"
  },
  "language_info": {
   "codemirror_mode": {
    "name": "ipython",
    "version": 3
   },
   "file_extension": ".py",
   "mimetype": "text/x-python",
   "name": "python",
   "nbconvert_exporter": "python",
   "pygments_lexer": "ipython3",
   "version": "3.11.5"
  }
 },
 "nbformat": 4,
 "nbformat_minor": 2
}
